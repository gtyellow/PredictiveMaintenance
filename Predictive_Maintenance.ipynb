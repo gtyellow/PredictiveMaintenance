{
  "nbformat": 4,
  "nbformat_minor": 0,
  "metadata": {
    "colab": {
      "provenance": [],
      "authorship_tag": "ABX9TyOkMs98Y3HcyLRMPXaaxSZA",
      "include_colab_link": true
    },
    "kernelspec": {
      "name": "python3",
      "display_name": "Python 3"
    },
    "language_info": {
      "name": "python"
    }
  },
  "cells": [
    {
      "cell_type": "markdown",
      "metadata": {
        "id": "view-in-github",
        "colab_type": "text"
      },
      "source": [
        "<a href=\"https://colab.research.google.com/github/gtyellow/PredictiveMaintenance/blob/main/Predictive_Maintenance.ipynb\" target=\"_parent\"><img src=\"https://colab.research.google.com/assets/colab-badge.svg\" alt=\"Open In Colab\"/></a>"
      ]
    },
    {
      "cell_type": "code",
      "execution_count": null,
      "metadata": {
        "id": "M4VxMh_wStIB"
      },
      "outputs": [],
      "source": [
        "# This code takes a dataset of machine and tries to model a predictive maintenance schedule\n",
        "# The goal is to keep the equipment in service for as long as possible while avoiding equipment failure before maintenance must be performed or equipment replaced\n",
        "# This appears to be a classification problem to predict when there will be a failure.  \n",
        "# The model will be structured such that you can feed a production schedule into the model and estimate a failure.\n",
        "# Dataset sourced from UC Irvine https://archive.ics.uci.edu/ml/datasets/AI4I+2020+Predictive+Maintenance+Dataset#, \n",
        "#   who sourced it from Stephan Matzka, University of Technology and Life, Berlin"
      ]
    },
    {
      "cell_type": "code",
      "source": [
        "!pip3 install catboost"
      ],
      "metadata": {
        "colab": {
          "base_uri": "https://localhost:8080/"
        },
        "id": "7ZoZ-Zr1bWAa",
        "outputId": "9cdc9c8a-2318-45da-b955-ff26420d85ae"
      },
      "execution_count": null,
      "outputs": [
        {
          "output_type": "stream",
          "name": "stdout",
          "text": [
            "Looking in indexes: https://pypi.org/simple, https://us-python.pkg.dev/colab-wheels/public/simple/\n",
            "Collecting catboost\n",
            "  Downloading catboost-1.1-cp37-none-manylinux1_x86_64.whl (76.8 MB)\n",
            "\u001b[K     |████████████████████████████████| 76.8 MB 1.2 MB/s \n",
            "\u001b[?25hRequirement already satisfied: matplotlib in /usr/local/lib/python3.7/dist-packages (from catboost) (3.2.2)\n",
            "Requirement already satisfied: six in /usr/local/lib/python3.7/dist-packages (from catboost) (1.15.0)\n",
            "Requirement already satisfied: numpy>=1.16.0 in /usr/local/lib/python3.7/dist-packages (from catboost) (1.21.6)\n",
            "Requirement already satisfied: pandas>=0.24.0 in /usr/local/lib/python3.7/dist-packages (from catboost) (1.3.5)\n",
            "Requirement already satisfied: graphviz in /usr/local/lib/python3.7/dist-packages (from catboost) (0.10.1)\n",
            "Requirement already satisfied: plotly in /usr/local/lib/python3.7/dist-packages (from catboost) (5.5.0)\n",
            "Requirement already satisfied: scipy in /usr/local/lib/python3.7/dist-packages (from catboost) (1.7.3)\n",
            "Requirement already satisfied: pytz>=2017.3 in /usr/local/lib/python3.7/dist-packages (from pandas>=0.24.0->catboost) (2022.4)\n",
            "Requirement already satisfied: python-dateutil>=2.7.3 in /usr/local/lib/python3.7/dist-packages (from pandas>=0.24.0->catboost) (2.8.2)\n",
            "Requirement already satisfied: cycler>=0.10 in /usr/local/lib/python3.7/dist-packages (from matplotlib->catboost) (0.11.0)\n",
            "Requirement already satisfied: pyparsing!=2.0.4,!=2.1.2,!=2.1.6,>=2.0.1 in /usr/local/lib/python3.7/dist-packages (from matplotlib->catboost) (3.0.9)\n",
            "Requirement already satisfied: kiwisolver>=1.0.1 in /usr/local/lib/python3.7/dist-packages (from matplotlib->catboost) (1.4.4)\n",
            "Requirement already satisfied: typing-extensions in /usr/local/lib/python3.7/dist-packages (from kiwisolver>=1.0.1->matplotlib->catboost) (4.1.1)\n",
            "Requirement already satisfied: tenacity>=6.2.0 in /usr/local/lib/python3.7/dist-packages (from plotly->catboost) (8.1.0)\n",
            "Installing collected packages: catboost\n",
            "Successfully installed catboost-1.1\n"
          ]
        }
      ]
    },
    {
      "cell_type": "code",
      "source": [
        "\"\"\"\n",
        "\n",
        "The dataset consists of 10 000 data points stored as rows with 14 features in columns\n",
        "UID: unique identifier ranging from 1 to 10000\n",
        "product ID: consisting of a letter L, M, or H for low (50% of all products), medium (30%) and high (20%) as product quality variants and a variant-specific serial number\n",
        "air temperature [K]: generated using a random walk process later normalized to a standard deviation of 2 K around 300 K\n",
        "process temperature [K]: generated using a random walk process normalized to a standard deviation of 1 K, added to the air temperature plus 10 K.\n",
        "rotational speed [rpm]: calculated from a power of 2860 W, overlaid with a normally distributed noise\n",
        "torque [Nm]: torque values are normally distributed around 40 Nm with a Ïƒ = 10 Nm and no negative values.\n",
        "tool wear [min]: The quality variants H/M/L add 5/3/2 minutes of tool wear to the used tool in the process. and a\n",
        "'machine failure' label that indicates, whether the machine has failed in this particular datapoint for any of the following failure modes are true.\n",
        "\n",
        "The machine failure consists of five independent failure modes\n",
        "tool wear failure (TWF): the tool will be replaced of fail at a randomly selected tool wear time between 200 â€“ 240 mins (120 times in our dataset). At this point in time, the tool is replaced 69 times, and fails 51 times (randomly assigned).\n",
        "heat dissipation failure (HDF): heat dissipation causes a process failure, if the difference between air- and process temperature is below 8.6 K and the toolâ€™s rotational speed is below 1380 rpm. This is the case for 115 data points.\n",
        "power failure (PWF): the product of torque and rotational speed (in rad/s) equals the power required for the process. If this power is below 3500 W or above 9000 W, the process fails, which is the case 95 times in our dataset.\n",
        "overstrain failure (OSF): if the product of tool wear and torque exceeds 11,000 minNm for the L product variant (12,000 M, 13,000 H), the process fails due to overstrain. This is true for 98 datapoints.\n",
        "random failures (RNF): each process has a chance of 0,1 % to fail regardless of its process parameters. This is the case for only 5 datapoints, less than could be expected for 10,000 datapoints in our dataset.\n",
        "\n",
        "If at least one of the above failure modes is true, the process fails and the 'machine failure' label is set to 1. It is therefore not transparent to the machine learning method, which of the failure modes has caused the process to fail\n",
        "\n",
        "\"\"\""
      ],
      "metadata": {
        "id": "0Zsc22evT2la",
        "colab": {
          "base_uri": "https://localhost:8080/",
          "height": 123
        },
        "outputId": "479129da-8f06-4adf-c8d1-0ec8fca21726"
      },
      "execution_count": null,
      "outputs": [
        {
          "output_type": "execute_result",
          "data": {
            "text/plain": [
              "\"\\n\\nThe dataset consists of 10 000 data points stored as rows with 14 features in columns\\nUID: unique identifier ranging from 1 to 10000\\nproduct ID: consisting of a letter L, M, or H for low (50% of all products), medium (30%) and high (20%) as product quality variants and a variant-specific serial number\\nair temperature [K]: generated using a random walk process later normalized to a standard deviation of 2 K around 300 K\\nprocess temperature [K]: generated using a random walk process normalized to a standard deviation of 1 K, added to the air temperature plus 10 K.\\nrotational speed [rpm]: calculated from a power of 2860 W, overlaid with a normally distributed noise\\ntorque [Nm]: torque values are normally distributed around 40 Nm with a Ïƒ = 10 Nm and no negative values.\\ntool wear [min]: The quality variants H/M/L add 5/3/2 minutes of tool wear to the used tool in the process. and a\\n'machine failure' label that indicates, whether the machine has failed in this particular datapoint for any of the following failure modes are true.\\n\\nThe machine failure consists of five independent failure modes\\ntool wear failure (TWF): the tool will be replaced of fail at a randomly selected tool wear time between 200 â€“ 240 mins (120 times in our dataset). At this point in time, the tool is replaced 69 times, and fails 51 times (randomly assigned).\\nheat dissipation failure (HDF): heat dissipation causes a process failure, if the difference between air- and process temperature is below 8.6 K and the toolâ€™s rotational speed is below 1380 rpm. This is the case for 115 data points.\\npower failure (PWF): the product of torque and rotational speed (in rad/s) equals the power required for the process. If this power is below 3500 W or above 9000 W, the process fails, which is the case 95 times in our dataset.\\noverstrain failure (OSF): if the product of tool wear and torque exceeds 11,000 minNm for the L product variant (12,000 M, 13,000 H), the process fails due to overstrain. This is true for 98 datapoints.\\nrandom failures (RNF): each process has a chance of 0,1 % to fail regardless of its process parameters. This is the case for only 5 datapoints, less than could be expected for 10,000 datapoints in our dataset.\\n\\nIf at least one of the above failure modes is true, the process fails and the 'machine failure' label is set to 1. It is therefore not transparent to the machine learning method, which of the failure modes has caused the process to fail\\n\\n\""
            ],
            "application/vnd.google.colaboratory.intrinsic+json": {
              "type": "string"
            }
          },
          "metadata": {},
          "execution_count": 2
        }
      ]
    },
    {
      "cell_type": "code",
      "source": [
        "#Import Libraries\n",
        "\n",
        "import pandas as pd\n",
        "import numpy as np\n",
        "import time\n",
        "import matplotlib\n",
        "import matplotlib.pyplot as plt\n",
        "import seaborn as sns\n",
        "\n",
        "from scipy.stats import skew, norm\n",
        "from scipy.signal import argrelextrema\n",
        "\n",
        "from sklearn.cluster import KMeans\n",
        "from sklearn.cluster import MiniBatchKMeans\n",
        "from sklearn.model_selection import train_test_split\n",
        "\n"
      ],
      "metadata": {
        "id": "EUkYTD6sUQtU"
      },
      "execution_count": null,
      "outputs": []
    },
    {
      "cell_type": "code",
      "source": [
        "# next import dataset\n",
        "\n",
        "df=pd.read_csv(\"/content/ai4i2020.csv\")\n",
        "print(df.columns)\n"
      ],
      "metadata": {
        "colab": {
          "base_uri": "https://localhost:8080/"
        },
        "id": "Y-GRwow6WvD8",
        "outputId": "27bdc4ca-9f64-4d18-a877-774fba9a16a9"
      },
      "execution_count": null,
      "outputs": [
        {
          "output_type": "stream",
          "name": "stdout",
          "text": [
            "Index(['UDI', 'Product ID', 'Type', 'Air temperature [K]',\n",
            "       'Process temperature [K]', 'Rotational speed [rpm]', 'Torque [Nm]',\n",
            "       'Tool wear [min]', 'Machine failure', 'TWF', 'HDF', 'PWF', 'OSF',\n",
            "       'RNF'],\n",
            "      dtype='object')\n"
          ]
        }
      ]
    },
    {
      "cell_type": "code",
      "source": [
        "df=df.drop(['UDI','Product ID'], axis=1)\n"
      ],
      "metadata": {
        "id": "ELqtB7ZRwXAn"
      },
      "execution_count": null,
      "outputs": []
    },
    {
      "cell_type": "code",
      "source": [
        "#Convert Kelvin to Fairenheight and relabel columns for better understanding\n",
        "\n",
        "df['Air temperature [K]']=(df['Air temperature [K]'].values - 273.15) * 9/5 + 32\n",
        "df['Process temperature [K]']=(df['Process temperature [K]'].values - 273.15) * 9/5 + 32\n",
        "\n",
        "df.rename(columns = {'Process temperature [K]':'Process temperature [F]', 'Air temperature [K]':'Air temperature [F]'}, inplace = True)\n"
      ],
      "metadata": {
        "id": "pACd174J1cmV"
      },
      "execution_count": null,
      "outputs": []
    },
    {
      "cell_type": "code",
      "source": [
        "#First we try to glean some information from the data by plotting features.  \n",
        "\n",
        "sns.set(style=\"darkgrid\")\n",
        "ax=sns.countplot(x=df[\"Type\"], order=[\"L\", \"M\", \"H\"], data=df)\n",
        "plt.show()\n",
        "\n"
      ],
      "metadata": {
        "colab": {
          "base_uri": "https://localhost:8080/",
          "height": 285
        },
        "id": "94M-HSEwXXh6",
        "outputId": "7ccd72c7-b23f-4cf4-e7ce-a441b52cc248"
      },
      "execution_count": null,
      "outputs": [
        {
          "output_type": "display_data",
          "data": {
            "text/plain": [
              "<Figure size 432x288 with 1 Axes>"
            ],
            "image/png": "[encoded data removed]"
          },
          "metadata": {}
        }
      ]
    },
    {
      "cell_type": "code",
      "source": [
        "\n",
        "failure_df=pd.DataFrame([(np.count_nonzero(df['TWF']), \n",
        "                         np.count_nonzero(df['HDF']),\n",
        "                         np.count_nonzero(df['PWF']),\n",
        "                         np.count_nonzero(df['OSF']),\n",
        "                         np.count_nonzero(df['RNF']))],\n",
        "                        columns=[\"tool wear failure\",\n",
        "                                \"heat dissipation failure\",\n",
        "                                \"power failure\",\n",
        "                                \"overstrain failure\",\n",
        "                                \"random failures\"] )\n",
        "\n",
        "\n",
        "\n",
        "\n",
        "#print(failure_df)\n",
        "\n",
        "melt_df=failure_df.melt(value_vars=failure_df.columns)\n",
        "print(melt_df)\n",
        "\n",
        "\n",
        "\n",
        "ax=sns.barplot(data=melt_df, x='variable', y='value')\n",
        "plt.figure(figsize=(20,16))\n",
        "ax.set_xticklabels(ax.get_xticklabels(), rotation=40, ha=\"right\")\n",
        "plt.tight_layout()\n",
        "plt.show()\n"
      ],
      "metadata": {
        "colab": {
          "base_uri": "https://localhost:8080/",
          "height": 488
        },
        "id": "enarM30Uajqy",
        "outputId": "ff9ab376-a88e-4d5d-a378-40e2be96bf81"
      },
      "execution_count": null,
      "outputs": [
        {
          "output_type": "stream",
          "name": "stdout",
          "text": [
            "                   variable  value\n",
            "0         tool wear failure     46\n",
            "1  heat dissipation failure    115\n",
            "2             power failure     95\n",
            "3        overstrain failure     98\n",
            "4           random failures     19\n"
          ]
        },
        {
          "output_type": "display_data",
          "data": {
            "text/plain": [
              "<Figure size 432x288 with 1 Axes>"
            ],
            "image/png": "[encoded data removed]"
          },
          "metadata": {}
        },
        {
          "output_type": "display_data",
          "data": {
            "text/plain": [
              "<Figure size 1440x1152 with 0 Axes>"
            ]
          },
          "metadata": {}
        }
      ]
    },
    {
      "cell_type": "code",
      "source": [
        "failure_feature_df = df[df['Machine failure'] == 1].copy()\n",
        "print(failure_feature_df)\n",
        "sns.set(style=\"darkgrid\")\n",
        "ax=sns.countplot(x=failure_feature_df[\"Type\"], order=[\"L\", \"M\", \"H\"], data=df)\n",
        "plt.show()"
      ],
      "metadata": {
        "colab": {
          "base_uri": "https://localhost:8080/",
          "height": 979
        },
        "id": "C2rueCREvvkd",
        "outputId": "8f383502-be17-43f0-9065-7775ab433533"
      },
      "execution_count": null,
      "outputs": [
        {
          "output_type": "stream",
          "name": "stdout",
          "text": [
            "     Type  Air temperature [F]  Process temperature [F]  \\\n",
            "50      L                78.35                    96.71   \n",
            "69      L                78.35                    96.53   \n",
            "77      L                78.17                    96.35   \n",
            "160     L                77.45                    95.09   \n",
            "161     L                77.27                    94.91   \n",
            "...   ...                  ...                      ...   \n",
            "9758    L                77.81                    97.97   \n",
            "9764    L                77.63                    97.43   \n",
            "9822    L                77.63                    97.25   \n",
            "9830    L                77.27                    97.07   \n",
            "9974    L                77.81                    95.09   \n",
            "\n",
            "      Rotational speed [rpm]  Torque [Nm]  Tool wear [min]  Machine failure  \\\n",
            "50                      2861          4.6              143                1   \n",
            "69                      1410         65.7              191                1   \n",
            "77                      1455         41.3              208                1   \n",
            "160                     1282         60.7              216                1   \n",
            "161                     1412         52.3              218                1   \n",
            "...                      ...          ...              ...              ...   \n",
            "9758                    2271         16.2              218                1   \n",
            "9764                    1294         66.7               12                1   \n",
            "9822                    1360         60.9              187                1   \n",
            "9830                    1337         56.1              206                1   \n",
            "9974                    1361         68.2              172                1   \n",
            "\n",
            "      TWF  HDF  PWF  OSF  RNF  \n",
            "50      0    0    1    0    0  \n",
            "69      0    0    1    1    0  \n",
            "77      1    0    0    0    0  \n",
            "160     0    0    0    1    0  \n",
            "161     0    0    0    1    0  \n",
            "...   ...  ...  ...  ...  ...  \n",
            "9758    1    0    0    0    0  \n",
            "9764    0    0    1    0    0  \n",
            "9822    0    0    0    1    0  \n",
            "9830    0    0    0    1    0  \n",
            "9974    0    0    1    1    0  \n",
            "\n",
            "[339 rows x 12 columns]\n"
          ]
        },
        {
          "output_type": "display_data",
          "data": {
            "text/plain": [
              "<Figure size 432x288 with 1 Axes>"
            ],
            "image/png": "[encoded data removed]"
          },
          "metadata": {}
        }
      ]
    },
    {
      "cell_type": "code",
      "source": [
        "plt.figure(figsize=(30,15))\n",
        "count=1\n",
        "for i in ['Air temperature [F]', 'Process temperature [F]', 'Rotational speed [rpm]', 'Torque [Nm]']:\n",
        "  plt.subplot(3,2,count)\n",
        "  sns.boxplot(data=failure_feature_df, y=i, x='Machine failure')\n",
        "  count+=1"
      ],
      "metadata": {
        "id": "dbsIxmDOZd7T",
        "colab": {
          "base_uri": "https://localhost:8080/",
          "height": 486
        },
        "outputId": "4593af9f-2138-4f76-af53-a093519e9947"
      },
      "execution_count": null,
      "outputs": [
        {
          "output_type": "display_data",
          "data": {
            "text/plain": [
              "<Figure size 2160x1080 with 4 Axes>"
            ],
            "image/png": "[encoded data removed]"
          },
          "metadata": {}
        }
      ]
    },
    {
      "cell_type": "code",
      "source": [
        "#The independent variables have dramatically different ranges and must be normalized.   \n",
        "\n",
        "# remove the machine failure column since it duplicates the five types of failure and will cause problems with the machine learning alogorythm\n",
        "\n",
        "failure_feature_df=failure_feature_df.drop(['Machine failure'], axis=1)"
      ],
      "metadata": {
        "id": "yNVeqwF-jxrj"
      },
      "execution_count": null,
      "outputs": []
    },
    {
      "cell_type": "code",
      "source": [
        "hot_encoded_df = pd.get_dummies(df, columns=[\"Type\"], prefix=\"Prod Type\")"
      ],
      "metadata": {
        "id": "K1RDuIX59J1r"
      },
      "execution_count": null,
      "outputs": []
    },
    {
      "cell_type": "code",
      "source": [
        "print(hot_encoded_df)"
      ],
      "metadata": {
        "colab": {
          "base_uri": "https://localhost:8080/"
        },
        "id": "19n91xQK-X90",
        "outputId": "a2925b2a-6224-420a-aaf7-c3eeda37e1ec"
      },
      "execution_count": null,
      "outputs": [
        {
          "output_type": "stream",
          "name": "stdout",
          "text": [
            "      Air temperature [F]  Process temperature [F]  Rotational speed [rpm]  \\\n",
            "0                   76.91                    95.81                    1551   \n",
            "1                   77.09                    95.99                    1408   \n",
            "2                   76.91                    95.63                    1498   \n",
            "3                   77.09                    95.81                    1433   \n",
            "4                   77.09                    95.99                    1408   \n",
            "...                   ...                      ...                     ...   \n",
            "9995                78.17                    95.45                    1604   \n",
            "9996                78.35                    95.45                    1632   \n",
            "9997                78.53                    95.81                    1645   \n",
            "9998                78.53                    95.99                    1408   \n",
            "9999                78.53                    95.99                    1500   \n",
            "\n",
            "      Torque [Nm]  Tool wear [min]  Machine failure  TWF  HDF  PWF  OSF  RNF  \\\n",
            "0            42.8                0                0    0    0    0    0    0   \n",
            "1            46.3                3                0    0    0    0    0    0   \n",
            "2            49.4                5                0    0    0    0    0    0   \n",
            "3            39.5                7                0    0    0    0    0    0   \n",
            "4            40.0                9                0    0    0    0    0    0   \n",
            "...           ...              ...              ...  ...  ...  ...  ...  ...   \n",
            "9995         29.5               14                0    0    0    0    0    0   \n",
            "9996         31.8               17                0    0    0    0    0    0   \n",
            "9997         33.4               22                0    0    0    0    0    0   \n",
            "9998         48.5               25                0    0    0    0    0    0   \n",
            "9999         40.2               30                0    0    0    0    0    0   \n",
            "\n",
            "      Prod Type_H  Prod Type_L  Prod Type_M  \n",
            "0               0            0            1  \n",
            "1               0            1            0  \n",
            "2               0            1            0  \n",
            "3               0            1            0  \n",
            "4               0            1            0  \n",
            "...           ...          ...          ...  \n",
            "9995            0            0            1  \n",
            "9996            1            0            0  \n",
            "9997            0            0            1  \n",
            "9998            1            0            0  \n",
            "9999            0            0            1  \n",
            "\n",
            "[10000 rows x 14 columns]\n"
          ]
        }
      ]
    },
    {
      "cell_type": "code",
      "source": [
        "y = df['Machine failure']\n",
        "#y = df[['TWF', 'HDF', 'PWF', 'OSF', 'RNF']].copy()\n",
        "X = hot_encoded_df.drop(['Machine failure', 'TWF', 'HDF', 'PWF', 'OSF', 'RNF'], axis=1)\n",
        "\n",
        "\n",
        "\n",
        " \n",
        "# Now we split the dataset in train and test part\n",
        "# here the train set is 75% and test set is 25%\n",
        "X_train, X_test, y_train, y_test = train_test_split(X, y, test_size=0.25,  random_state=2)\n",
        "\n",
        "\n",
        "print(X_train.shape)\n",
        "print(y_train.shape)"
      ],
      "metadata": {
        "colab": {
          "base_uri": "https://localhost:8080/"
        },
        "id": "2DvgIO4lbRor",
        "outputId": "58085a85-7608-4a24-9f4b-ca8cd33d27f2"
      },
      "execution_count": null,
      "outputs": [
        {
          "output_type": "stream",
          "name": "stdout",
          "text": [
            "(7500, 8)\n",
            "(7500,)\n"
          ]
        }
      ]
    },
    {
      "cell_type": "code",
      "source": [
        "\n",
        "#Now we develop several models using sklearn and compare them for accuracy\n",
        "#Frist Import several models as well as a way to compare them\n",
        "\n",
        "import time\n",
        "from sklearn.metrics import accuracy_score, classification_report\n",
        "\n",
        "classifier=[]\n",
        "import_model=[]\n",
        "\n",
        "from sklearn.linear_model import LogisticRegression\n",
        "lr=LogisticRegression()\n",
        "classifier.append('Logistic Regression')\n",
        "import_model.append('lr')\n",
        "\n",
        "from sklearn.svm import SVC\n",
        "SVC=SVC()\n",
        "classifier.append('Support Vector Machine')\n",
        "import_model.append('SVC')\n",
        "\n",
        "from sklearn.naive_bayes import GaussianNB\n",
        "GNB = GaussianNB()\n",
        "classifier.append('Gaussian Naive Bayes')\n",
        "import_model.append('GNB')\n",
        "\n",
        "from sklearn.linear_model import SGDClassifier\n",
        "SGDC = SGDClassifier()\n",
        "classifier.append('Stochastic Gradient Descent Classifier')\n",
        "import_model.append('SGDC')\n",
        "\n",
        "from sklearn.ensemble import BaggingClassifier\n",
        "BC = BaggingClassifier()\n",
        "classifier.append('Bagging Classifier')\n",
        "import_model.append('BC')\n"
      ],
      "metadata": {
        "id": "DLsl_R9m-aT2"
      },
      "execution_count": null,
      "outputs": []
    },
    {
      "cell_type": "code",
      "source": [
        "class Modeling:\n",
        "  def __init__ (self, X_train, X_test, y_train, y_test, models):\n",
        "    self.X_train = X_train    \n",
        "    self.X_test = X_test\n",
        "    self.y_train = y_train\n",
        "    self.y_test = y_test\n",
        "    self.models = models\n",
        "\n",
        "\n",
        "  def fit(self):\n",
        "    model_time = []\n",
        "    model_accuracy = []\n",
        "    for i in self.models:\n",
        "      start=time.time()\n",
        "      i.fit(self.X_train, self.y_train)\n",
        "      model_accuracy.append(accuracy_score(self.y_test, i.predict(self.X_test)))\n",
        "      stop=time.time()\n",
        "      model_time.append(stop-start)\n",
        "      print(i, \"has been fit\")\n",
        "    self.models_output = pd.DataFrame({'Models':self.models, 'Accuracy':model_accuracy, 'Runtime (s)':model_time})\n",
        "  \n",
        "  def results(self):\n",
        "    models=self.models_output\n",
        "    models=models.sort_values(by=['Accuracy', 'Runtime (s)'],ascending=[False,True]).reset_index().drop('index', axis=1)\n",
        "    self.best = models['Models'][0]\n",
        "    models['Models']=models['Models'].astype(str).str.split('(', n=2, expand = True)[0]\n",
        "    models['Accuracy']=models['Accuracy'].round(5)*100\n",
        "    self.models_output_cleaned=models\n",
        "    return(models)\n",
        "  \n",
        "  def best_model(self, type):\n",
        "    if type=='model':\n",
        "      return(self.best)\n",
        "    elif type=='name':\n",
        "      return(self.models_output_cleaned['Models'][0])\n",
        "\n",
        "  def best_model_accuracy(self):\n",
        "    return(self.models_output_cleaned['Accuracy'][0])\n",
        "\n",
        "  def best_model_predict(self,X_test):\n",
        "    return(self.best.predict(X_test))\n",
        "\n"
      ],
      "metadata": {
        "id": "yVEExu7J7A8G"
      },
      "execution_count": null,
      "outputs": []
    },
    {
      "cell_type": "code",
      "source": [
        "#models_to_test=[lr]\n",
        "models_to_test=[lr, SVC, GNB, SGDC, BC]\n"
      ],
      "metadata": {
        "id": "PfSu-NZh8PRE"
      },
      "execution_count": null,
      "outputs": []
    },
    {
      "cell_type": "code",
      "source": [
        "classification = Modeling(X_train, X_test, y_train, y_test, models_to_test)\n",
        "classification.fit()"
      ],
      "metadata": {
        "colab": {
          "base_uri": "https://localhost:8080/"
        },
        "id": "Idw9ZkXu9ZIg",
        "outputId": "23cd92ae-8974-4531-8ae5-6b57dfce5cda"
      },
      "execution_count": null,
      "outputs": [
        {
          "output_type": "stream",
          "name": "stdout",
          "text": [
            "LogisticRegression() has been fit\n",
            "SVC() has been fit\n",
            "GaussianNB() has been fit\n",
            "SGDClassifier() has been fit\n",
            "BaggingClassifier() has been fit\n"
          ]
        }
      ]
    },
    {
      "cell_type": "code",
      "source": [
        "classification.results()"
      ],
      "metadata": {
        "colab": {
          "base_uri": "https://localhost:8080/",
          "height": 206
        },
        "id": "5IFBrzEB9sYj",
        "outputId": "14a5a010-abe5-4fcb-ec5d-7d00cb377248"
      },
      "execution_count": null,
      "outputs": [
        {
          "output_type": "execute_result",
          "data": {
            "text/plain": [
              "               Models  Accuracy  Runtime (s)\n",
              "0   BaggingClassifier     98.56     0.261784\n",
              "1  LogisticRegression     97.08     0.148627\n",
              "2       SGDClassifier     96.72     0.054091\n",
              "3                 SVC     96.72     0.419090\n",
              "4          GaussianNB     95.28     0.008090"
            ],
            "text/html": [
              "\n",
              "  <div id=\"df-c6483d81-cb50-435f-9461-1dc9cb2cc119\">\n",
              "    <div class=\"colab-df-container\">\n",
              "      <div>\n",
              "<style scoped>\n",
              "    .dataframe tbody tr th:only-of-type {\n",
              "        vertical-align: middle;\n",
              "    }\n",
              "\n",
              "    .dataframe tbody tr th {\n",
              "        vertical-align: top;\n",
              "    }\n",
              "\n",
              "    .dataframe thead th {\n",
              "        text-align: right;\n",
              "    }\n",
              "</style>\n",
              "<table border=\"1\" class=\"dataframe\">\n",
              "  <thead>\n",
              "    <tr style=\"text-align: right;\">\n",
              "      <th></th>\n",
              "      <th>Models</th>\n",
              "      <th>Accuracy</th>\n",
              "      <th>Runtime (s)</th>\n",
              "    </tr>\n",
              "  </thead>\n",
              "  <tbody>\n",
              "    <tr>\n",
              "      <th>0</th>\n",
              "      <td>BaggingClassifier</td>\n",
              "      <td>98.56</td>\n",
              "      <td>0.261784</td>\n",
              "    </tr>\n",
              "    <tr>\n",
              "      <th>1</th>\n",
              "      <td>LogisticRegression</td>\n",
              "      <td>97.08</td>\n",
              "      <td>0.148627</td>\n",
              "    </tr>\n",
              "    <tr>\n",
              "      <th>2</th>\n",
              "      <td>SGDClassifier</td>\n",
              "      <td>96.72</td>\n",
              "      <td>0.054091</td>\n",
              "    </tr>\n",
              "    <tr>\n",
              "      <th>3</th>\n",
              "      <td>SVC</td>\n",
              "      <td>96.72</td>\n",
              "      <td>0.419090</td>\n",
              "    </tr>\n",
              "    <tr>\n",
              "      <th>4</th>\n",
              "      <td>GaussianNB</td>\n",
              "      <td>95.28</td>\n",
              "      <td>0.008090</td>\n",
              "    </tr>\n",
              "  </tbody>\n",
              "</table>\n",
              "</div>\n",
              "      <button class=\"colab-df-convert\" onclick=\"convertToInteractive('df-c6483d81-cb50-435f-9461-1dc9cb2cc119')\"\n",
              "              title=\"Convert this dataframe to an interactive table.\"\n",
              "              style=\"display:none;\">\n",
              "        \n",
              "  <svg xmlns=\"http://www.w3.org/2000/svg\" height=\"24px\"viewBox=\"0 0 24 24\"\n",
              "       width=\"24px\">\n",
              "    <path d=\"M0 0h24v24H0V0z\" fill=\"none\"/>\n",
              "    <path d=\"M18.56 5.44l.94 2.06.94-2.06 2.06-.94-2.06-.94-.94-2.06-.94 2.06-2.06.94zm-11 1L8.5 8.5l.94-2.06 2.06-.94-2.06-.94L8.5 2.5l-.94 2.06-2.06.94zm10 10l.94 2.06.94-2.06 2.06-.94-2.06-.94-.94-2.06-.94 2.06-2.06.94z\"/><path d=\"M17.41 7.96l-1.37-1.37c-.4-.4-.92-.59-1.43-.59-.52 0-1.04.2-1.43.59L10.3 9.45l-7.72 7.72c-.78.78-.78 2.05 0 2.83L4 21.41c.39.39.9.59 1.41.59.51 0 1.02-.2 1.41-.59l7.78-7.78 2.81-2.81c.8-.78.8-2.07 0-2.86zM5.41 20L4 18.59l7.72-7.72 1.47 1.35L5.41 20z\"/>\n",
              "  </svg>\n",
              "      </button>\n",
              "      \n",
              "  <style>\n",
              "    .colab-df-container {\n",
              "      display:flex;\n",
              "      flex-wrap:wrap;\n",
              "      gap: 12px;\n",
              "    }\n",
              "\n",
              "    .colab-df-convert {\n",
              "      background-color: #E8F0FE;\n",
              "      border: none;\n",
              "      border-radius: 50%;\n",
              "      cursor: pointer;\n",
              "      display: none;\n",
              "      fill: #1967D2;\n",
              "      height: 32px;\n",
              "      padding: 0 0 0 0;\n",
              "      width: 32px;\n",
              "    }\n",
              "\n",
              "    .colab-df-convert:hover {\n",
              "      background-color: #E2EBFA;\n",
              "      box-shadow: 0px 1px 2px rgba(60, 64, 67, 0.3), 0px 1px 3px 1px rgba(60, 64, 67, 0.15);\n",
              "      fill: #174EA6;\n",
              "    }\n",
              "\n",
              "    [theme=dark] .colab-df-convert {\n",
              "      background-color: #3B4455;\n",
              "      fill: #D2E3FC;\n",
              "    }\n",
              "\n",
              "    [theme=dark] .colab-df-convert:hover {\n",
              "      background-color: #434B5C;\n",
              "      box-shadow: 0px 1px 3px 1px rgba(0, 0, 0, 0.15);\n",
              "      filter: drop-shadow(0px 1px 2px rgba(0, 0, 0, 0.3));\n",
              "      fill: #FFFFFF;\n",
              "    }\n",
              "  </style>\n",
              "\n",
              "      <script>\n",
              "        const buttonEl =\n",
              "          document.querySelector('#df-c6483d81-cb50-435f-9461-1dc9cb2cc119 button.colab-df-convert');\n",
              "        buttonEl.style.display =\n",
              "          google.colab.kernel.accessAllowed ? 'block' : 'none';\n",
              "\n",
              "        async function convertToInteractive(key) {\n",
              "          const element = document.querySelector('#df-c6483d81-cb50-435f-9461-1dc9cb2cc119');\n",
              "          const dataTable =\n",
              "            await google.colab.kernel.invokeFunction('convertToInteractive',\n",
              "                                                     [key], {});\n",
              "          if (!dataTable) return;\n",
              "\n",
              "          const docLinkHtml = 'Like what you see? Visit the ' +\n",
              "            '<a target=\"_blank\" href=https://colab.research.google.com/notebooks/data_table.ipynb>data table notebook</a>'\n",
              "            + ' to learn more about interactive tables.';\n",
              "          element.innerHTML = '';\n",
              "          dataTable['output_type'] = 'display_data';\n",
              "          await google.colab.output.renderOutput(dataTable, element);\n",
              "          const docLink = document.createElement('div');\n",
              "          docLink.innerHTML = docLinkHtml;\n",
              "          element.appendChild(docLink);\n",
              "        }\n",
              "      </script>\n",
              "    </div>\n",
              "  </div>\n",
              "  "
            ]
          },
          "metadata": {},
          "execution_count": 147
        }
      ]
    },
    {
      "cell_type": "code",
      "source": [],
      "metadata": {
        "id": "xXmVeoHizjEa"
      },
      "execution_count": null,
      "outputs": []
    }
  ]
}